{
 "cells": [
  {
   "cell_type": "code",
   "execution_count": 2,
   "id": "50867e0c",
   "metadata": {},
   "outputs": [],
   "source": [
    "import pandas as pd\n",
    "import seaborn as sns\n",
    "import matplotlib.pyplot as plt\n",
    "from sklearn.ensemble import ExtraTreesClassifier\n",
    "from sklearn.metrics import roc_auc_score"
   ]
  },
  {
   "cell_type": "markdown",
   "id": "81be96ca",
   "metadata": {},
   "source": [
    "Загрузим данные"
   ]
  },
  {
   "cell_type": "code",
   "execution_count": 3,
   "id": "04d31b9c",
   "metadata": {},
   "outputs": [
    {
     "data": {
      "text/html": [
       "<div>\n",
       "<style scoped>\n",
       "    .dataframe tbody tr th:only-of-type {\n",
       "        vertical-align: middle;\n",
       "    }\n",
       "\n",
       "    .dataframe tbody tr th {\n",
       "        vertical-align: top;\n",
       "    }\n",
       "\n",
       "    .dataframe thead th {\n",
       "        text-align: right;\n",
       "    }\n",
       "</style>\n",
       "<table border=\"1\" class=\"dataframe\">\n",
       "  <thead>\n",
       "    <tr style=\"text-align: right;\">\n",
       "      <th></th>\n",
       "      <th>time</th>\n",
       "      <th>side</th>\n",
       "      <th>price</th>\n",
       "      <th>amount</th>\n",
       "    </tr>\n",
       "  </thead>\n",
       "  <tbody>\n",
       "    <tr>\n",
       "      <th>0</th>\n",
       "      <td>1600992000070695</td>\n",
       "      <td>0</td>\n",
       "      <td>218950</td>\n",
       "      <td>773</td>\n",
       "    </tr>\n",
       "    <tr>\n",
       "      <th>1</th>\n",
       "      <td>1600992000070695</td>\n",
       "      <td>0</td>\n",
       "      <td>218950</td>\n",
       "      <td>1000</td>\n",
       "    </tr>\n",
       "    <tr>\n",
       "      <th>2</th>\n",
       "      <td>1600992000072200</td>\n",
       "      <td>0</td>\n",
       "      <td>218955</td>\n",
       "      <td>2012</td>\n",
       "    </tr>\n",
       "    <tr>\n",
       "      <th>3</th>\n",
       "      <td>1600992000072200</td>\n",
       "      <td>0</td>\n",
       "      <td>218970</td>\n",
       "      <td>40</td>\n",
       "    </tr>\n",
       "    <tr>\n",
       "      <th>4</th>\n",
       "      <td>1600992000072200</td>\n",
       "      <td>0</td>\n",
       "      <td>218970</td>\n",
       "      <td>14</td>\n",
       "    </tr>\n",
       "  </tbody>\n",
       "</table>\n",
       "</div>"
      ],
      "text/plain": [
       "               time  side   price  amount\n",
       "0  1600992000070695     0  218950     773\n",
       "1  1600992000070695     0  218950    1000\n",
       "2  1600992000072200     0  218955    2012\n",
       "3  1600992000072200     0  218970      40\n",
       "4  1600992000072200     0  218970      14"
      ]
     },
     "execution_count": 3,
     "metadata": {},
     "output_type": "execute_result"
    }
   ],
   "source": [
    "trades = pd.read_csv(\"quant_accuracy_t_2030.csv.gz\")\n",
    "trades.head()"
   ]
  },
  {
   "cell_type": "code",
   "execution_count": 4,
   "id": "80dd5e07",
   "metadata": {},
   "outputs": [
    {
     "data": {
      "text/plain": [
       "0    3123937\n",
       "1    3093944\n",
       "Name: side, dtype: int64"
      ]
     },
     "execution_count": 4,
     "metadata": {},
     "output_type": "execute_result"
    }
   ],
   "source": [
    "# считаем что классы сбалансированы\n",
    "trades['side'].value_counts()"
   ]
  },
  {
   "cell_type": "code",
   "execution_count": 5,
   "id": "5b78e7aa",
   "metadata": {},
   "outputs": [
    {
     "data": {
      "text/html": [
       "<div>\n",
       "<style scoped>\n",
       "    .dataframe tbody tr th:only-of-type {\n",
       "        vertical-align: middle;\n",
       "    }\n",
       "\n",
       "    .dataframe tbody tr th {\n",
       "        vertical-align: top;\n",
       "    }\n",
       "\n",
       "    .dataframe thead th {\n",
       "        text-align: right;\n",
       "    }\n",
       "</style>\n",
       "<table border=\"1\" class=\"dataframe\">\n",
       "  <thead>\n",
       "    <tr style=\"text-align: right;\">\n",
       "      <th></th>\n",
       "      <th>time</th>\n",
       "      <th>side</th>\n",
       "      <th>price</th>\n",
       "      <th>amount</th>\n",
       "    </tr>\n",
       "  </thead>\n",
       "  <tbody>\n",
       "    <tr>\n",
       "      <th>count</th>\n",
       "      <td>6.217881e+06</td>\n",
       "      <td>6.217881e+06</td>\n",
       "      <td>6.217881e+06</td>\n",
       "      <td>6.217881e+06</td>\n",
       "    </tr>\n",
       "    <tr>\n",
       "      <th>mean</th>\n",
       "      <td>1.601172e+15</td>\n",
       "      <td>4.975882e-01</td>\n",
       "      <td>2.248021e+05</td>\n",
       "      <td>1.034219e+03</td>\n",
       "    </tr>\n",
       "    <tr>\n",
       "      <th>std</th>\n",
       "      <td>7.950094e+10</td>\n",
       "      <td>4.999942e-01</td>\n",
       "      <td>4.127148e+04</td>\n",
       "      <td>3.725600e+03</td>\n",
       "    </tr>\n",
       "    <tr>\n",
       "      <th>min</th>\n",
       "      <td>1.600992e+15</td>\n",
       "      <td>0.000000e+00</td>\n",
       "      <td>1.585000e+05</td>\n",
       "      <td>1.000000e+00</td>\n",
       "    </tr>\n",
       "    <tr>\n",
       "      <th>25%</th>\n",
       "      <td>1.601125e+15</td>\n",
       "      <td>0.000000e+00</td>\n",
       "      <td>1.851200e+05</td>\n",
       "      <td>2.400000e+01</td>\n",
       "    </tr>\n",
       "    <tr>\n",
       "      <th>50%</th>\n",
       "      <td>1.601186e+15</td>\n",
       "      <td>0.000000e+00</td>\n",
       "      <td>2.261300e+05</td>\n",
       "      <td>1.770000e+02</td>\n",
       "    </tr>\n",
       "    <tr>\n",
       "      <th>75%</th>\n",
       "      <td>1.601220e+15</td>\n",
       "      <td>1.000000e+00</td>\n",
       "      <td>2.649450e+05</td>\n",
       "      <td>8.130000e+02</td>\n",
       "    </tr>\n",
       "    <tr>\n",
       "      <th>max</th>\n",
       "      <td>1.601333e+15</td>\n",
       "      <td>1.000000e+00</td>\n",
       "      <td>3.179500e+05</td>\n",
       "      <td>1.114967e+06</td>\n",
       "    </tr>\n",
       "  </tbody>\n",
       "</table>\n",
       "</div>"
      ],
      "text/plain": [
       "               time          side         price        amount\n",
       "count  6.217881e+06  6.217881e+06  6.217881e+06  6.217881e+06\n",
       "mean   1.601172e+15  4.975882e-01  2.248021e+05  1.034219e+03\n",
       "std    7.950094e+10  4.999942e-01  4.127148e+04  3.725600e+03\n",
       "min    1.600992e+15  0.000000e+00  1.585000e+05  1.000000e+00\n",
       "25%    1.601125e+15  0.000000e+00  1.851200e+05  2.400000e+01\n",
       "50%    1.601186e+15  0.000000e+00  2.261300e+05  1.770000e+02\n",
       "75%    1.601220e+15  1.000000e+00  2.649450e+05  8.130000e+02\n",
       "max    1.601333e+15  1.000000e+00  3.179500e+05  1.114967e+06"
      ]
     },
     "execution_count": 5,
     "metadata": {},
     "output_type": "execute_result"
    }
   ],
   "source": [
    "trades.describe()"
   ]
  },
  {
   "cell_type": "code",
   "execution_count": 6,
   "id": "38c7cadd",
   "metadata": {},
   "outputs": [
    {
     "name": "stdout",
     "output_type": "stream",
     "text": [
      "<class 'pandas.core.frame.DataFrame'>\n",
      "RangeIndex: 6217881 entries, 0 to 6217880\n",
      "Data columns (total 4 columns):\n",
      " #   Column  Dtype\n",
      "---  ------  -----\n",
      " 0   time    int64\n",
      " 1   side    int64\n",
      " 2   price   int64\n",
      " 3   amount  int64\n",
      "dtypes: int64(4)\n",
      "memory usage: 189.8 MB\n"
     ]
    }
   ],
   "source": [
    "trades.info()"
   ]
  },
  {
   "cell_type": "markdown",
   "id": "e34681b1",
   "metadata": {},
   "source": [
    "Посмотрим на данные"
   ]
  },
  {
   "cell_type": "code",
   "execution_count": 7,
   "id": "267721f0",
   "metadata": {},
   "outputs": [
    {
     "data": {
      "text/plain": [
       "<AxesSubplot:xlabel='amount', ylabel='Count'>"
      ]
     },
     "execution_count": 7,
     "metadata": {},
     "output_type": "execute_result"
    },
    {
     "data": {
      "image/png": "[encoded data removed]",
      "text/plain": [
       "<Figure size 720x360 with 2 Axes>"
      ]
     },
     "metadata": {
      "needs_background": "light"
     },
     "output_type": "display_data"
    }
   ],
   "source": [
    "fig, ax =plt.subplots(1,2,figsize=(10,5))\n",
    "sns.histplot(trades.price, ax=ax[0], bins=100)\n",
    "sns.histplot(trades.amount, ax=ax[1], bins=100)"
   ]
  },
  {
   "cell_type": "code",
   "execution_count": 8,
   "id": "78639169",
   "metadata": {},
   "outputs": [
    {
     "data": {
      "text/plain": [
       "[<matplotlib.lines.Line2D at 0x244809c6970>]"
      ]
     },
     "execution_count": 8,
     "metadata": {},
     "output_type": "execute_result"
    },
    {
     "data": {
      "image/png": "[encoded data removed]",
      "text/plain": [
       "<Figure size 432x288 with 1 Axes>"
      ]
     },
     "metadata": {
      "needs_background": "light"
     },
     "output_type": "display_data"
    }
   ],
   "source": [
    "plt.plot(trades['price'])\n"
   ]
  },
  {
   "cell_type": "code",
   "execution_count": 9,
   "id": "d4da61aa",
   "metadata": {},
   "outputs": [
    {
     "data": {
      "text/plain": [
       "[<matplotlib.lines.Line2D at 0x24480a39400>]"
      ]
     },
     "execution_count": 9,
     "metadata": {},
     "output_type": "execute_result"
    },
    {
     "data": {
      "image/png": "[encoded data removed]",
      "text/plain": [
       "<Figure size 432x288 with 1 Axes>"
      ]
     },
     "metadata": {
      "needs_background": "light"
     },
     "output_type": "display_data"
    }
   ],
   "source": [
    "plt.plot(trades['amount'])"
   ]
  },
  {
   "cell_type": "markdown",
   "id": "635c8af5",
   "metadata": {},
   "source": [
    "Сами значения цены не инетерсны, перейдем к разницам -1"
   ]
  },
  {
   "cell_type": "code",
   "execution_count": 10,
   "id": "c82d1c1d",
   "metadata": {},
   "outputs": [],
   "source": [
    "trades['price_diff']=trades['price'].diff()\n",
    "trades=trades.dropna()"
   ]
  },
  {
   "cell_type": "markdown",
   "id": "7c8b052c",
   "metadata": {},
   "source": [
    "Добавим новые признаки"
   ]
  },
  {
   "cell_type": "code",
   "execution_count": 11,
   "id": "f9e37d31",
   "metadata": {},
   "outputs": [],
   "source": [
    "trades['am*price']=trades['price']*trades['amount']"
   ]
  },
  {
   "cell_type": "code",
   "execution_count": 12,
   "id": "938b9d1c",
   "metadata": {},
   "outputs": [],
   "source": [
    "trades['diff_am*price']=trades['am*price'].diff()\n",
    "trades=trades.dropna()"
   ]
  },
  {
   "cell_type": "code",
   "execution_count": 13,
   "id": "285074d6",
   "metadata": {},
   "outputs": [],
   "source": [
    "trades['amount_diff']=trades['amount'].diff()\n",
    "trades=trades.dropna()"
   ]
  },
  {
   "cell_type": "code",
   "execution_count": 14,
   "id": "9d34366e",
   "metadata": {},
   "outputs": [],
   "source": [
    "trades['diff_am*price']=trades['diff_am*price'].astype(float)\n",
    "trades['am*price']=trades['am*price'].astype(float)\n",
    "trades['amount_diff']=trades['amount_diff'].astype(float)\n",
    "trades['side']=trades['side'].astype(float)"
   ]
  },
  {
   "cell_type": "code",
   "execution_count": 15,
   "id": "e12af6a7",
   "metadata": {},
   "outputs": [
    {
     "data": {
      "text/html": [
       "<div>\n",
       "<style scoped>\n",
       "    .dataframe tbody tr th:only-of-type {\n",
       "        vertical-align: middle;\n",
       "    }\n",
       "\n",
       "    .dataframe tbody tr th {\n",
       "        vertical-align: top;\n",
       "    }\n",
       "\n",
       "    .dataframe thead th {\n",
       "        text-align: right;\n",
       "    }\n",
       "</style>\n",
       "<table border=\"1\" class=\"dataframe\">\n",
       "  <thead>\n",
       "    <tr style=\"text-align: right;\">\n",
       "      <th></th>\n",
       "      <th>time</th>\n",
       "      <th>side</th>\n",
       "      <th>price</th>\n",
       "      <th>amount</th>\n",
       "      <th>price_diff</th>\n",
       "      <th>am*price</th>\n",
       "      <th>diff_am*price</th>\n",
       "      <th>amount_diff</th>\n",
       "    </tr>\n",
       "  </thead>\n",
       "  <tbody>\n",
       "    <tr>\n",
       "      <th>3</th>\n",
       "      <td>1600992000072200</td>\n",
       "      <td>0.0</td>\n",
       "      <td>218970</td>\n",
       "      <td>40</td>\n",
       "      <td>15.0</td>\n",
       "      <td>8758800.0</td>\n",
       "      <td>-431778660.0</td>\n",
       "      <td>-1972.0</td>\n",
       "    </tr>\n",
       "    <tr>\n",
       "      <th>4</th>\n",
       "      <td>1600992000072200</td>\n",
       "      <td>0.0</td>\n",
       "      <td>218970</td>\n",
       "      <td>14</td>\n",
       "      <td>0.0</td>\n",
       "      <td>3065580.0</td>\n",
       "      <td>-5693220.0</td>\n",
       "      <td>-26.0</td>\n",
       "    </tr>\n",
       "    <tr>\n",
       "      <th>5</th>\n",
       "      <td>1600992000072200</td>\n",
       "      <td>0.0</td>\n",
       "      <td>218990</td>\n",
       "      <td>419</td>\n",
       "      <td>20.0</td>\n",
       "      <td>91756810.0</td>\n",
       "      <td>88691230.0</td>\n",
       "      <td>405.0</td>\n",
       "    </tr>\n",
       "    <tr>\n",
       "      <th>6</th>\n",
       "      <td>1600992000073816</td>\n",
       "      <td>0.0</td>\n",
       "      <td>218990</td>\n",
       "      <td>628</td>\n",
       "      <td>0.0</td>\n",
       "      <td>137525720.0</td>\n",
       "      <td>45768910.0</td>\n",
       "      <td>209.0</td>\n",
       "    </tr>\n",
       "    <tr>\n",
       "      <th>7</th>\n",
       "      <td>1600992000073816</td>\n",
       "      <td>0.0</td>\n",
       "      <td>218995</td>\n",
       "      <td>56</td>\n",
       "      <td>5.0</td>\n",
       "      <td>12263720.0</td>\n",
       "      <td>-125262000.0</td>\n",
       "      <td>-572.0</td>\n",
       "    </tr>\n",
       "  </tbody>\n",
       "</table>\n",
       "</div>"
      ],
      "text/plain": [
       "               time  side   price  amount  price_diff     am*price  \\\n",
       "3  1600992000072200   0.0  218970      40        15.0    8758800.0   \n",
       "4  1600992000072200   0.0  218970      14         0.0    3065580.0   \n",
       "5  1600992000072200   0.0  218990     419        20.0   91756810.0   \n",
       "6  1600992000073816   0.0  218990     628         0.0  137525720.0   \n",
       "7  1600992000073816   0.0  218995      56         5.0   12263720.0   \n",
       "\n",
       "   diff_am*price  amount_diff  \n",
       "3   -431778660.0      -1972.0  \n",
       "4     -5693220.0        -26.0  \n",
       "5     88691230.0        405.0  \n",
       "6     45768910.0        209.0  \n",
       "7   -125262000.0       -572.0  "
      ]
     },
     "execution_count": 15,
     "metadata": {},
     "output_type": "execute_result"
    }
   ],
   "source": [
    "trades.head()"
   ]
  },
  {
   "cell_type": "code",
   "execution_count": 27,
   "id": "15cda821",
   "metadata": {},
   "outputs": [],
   "source": [
    "period=32 # 30-892, 32-895\n",
    "df=pd.DataFrame(columns=range(period+2))\n",
    "z=[]\n",
    "for i in range(10000): #10000\n",
    "    z=list(trades.iloc[i:i+period,2])\n",
    "    z.append(trades.iloc[i:i+period,3].sum())\n",
    "    z.append(trades.iloc[period+i-1,1])\n",
    "    df.loc[i]=z\n",
    "    "
   ]
  },
  {
   "cell_type": "code",
   "execution_count": 17,
   "id": "b8ec6ce7",
   "metadata": {},
   "outputs": [
    {
     "data": {
      "text/html": [
       "<div>\n",
       "<style scoped>\n",
       "    .dataframe tbody tr th:only-of-type {\n",
       "        vertical-align: middle;\n",
       "    }\n",
       "\n",
       "    .dataframe tbody tr th {\n",
       "        vertical-align: top;\n",
       "    }\n",
       "\n",
       "    .dataframe thead th {\n",
       "        text-align: right;\n",
       "    }\n",
       "</style>\n",
       "<table border=\"1\" class=\"dataframe\">\n",
       "  <thead>\n",
       "    <tr style=\"text-align: right;\">\n",
       "      <th></th>\n",
       "      <th>0</th>\n",
       "      <th>1</th>\n",
       "      <th>2</th>\n",
       "      <th>3</th>\n",
       "      <th>4</th>\n",
       "      <th>5</th>\n",
       "      <th>6</th>\n",
       "      <th>7</th>\n",
       "      <th>8</th>\n",
       "      <th>9</th>\n",
       "      <th>...</th>\n",
       "      <th>24</th>\n",
       "      <th>25</th>\n",
       "      <th>26</th>\n",
       "      <th>27</th>\n",
       "      <th>28</th>\n",
       "      <th>29</th>\n",
       "      <th>30</th>\n",
       "      <th>31</th>\n",
       "      <th>32</th>\n",
       "      <th>33</th>\n",
       "    </tr>\n",
       "  </thead>\n",
       "  <tbody>\n",
       "    <tr>\n",
       "      <th>0</th>\n",
       "      <td>218970.0</td>\n",
       "      <td>218970.0</td>\n",
       "      <td>218990.0</td>\n",
       "      <td>218990.0</td>\n",
       "      <td>218995.0</td>\n",
       "      <td>219000.0</td>\n",
       "      <td>219000.0</td>\n",
       "      <td>219035.0</td>\n",
       "      <td>219050.0</td>\n",
       "      <td>219050.0</td>\n",
       "      <td>...</td>\n",
       "      <td>219145.0</td>\n",
       "      <td>219010.0</td>\n",
       "      <td>219005.0</td>\n",
       "      <td>218995.0</td>\n",
       "      <td>218995.0</td>\n",
       "      <td>218980.0</td>\n",
       "      <td>218980.0</td>\n",
       "      <td>218980.0</td>\n",
       "      <td>34217.0</td>\n",
       "      <td>1.0</td>\n",
       "    </tr>\n",
       "    <tr>\n",
       "      <th>1</th>\n",
       "      <td>218970.0</td>\n",
       "      <td>218990.0</td>\n",
       "      <td>218990.0</td>\n",
       "      <td>218995.0</td>\n",
       "      <td>219000.0</td>\n",
       "      <td>219000.0</td>\n",
       "      <td>219035.0</td>\n",
       "      <td>219050.0</td>\n",
       "      <td>219050.0</td>\n",
       "      <td>219065.0</td>\n",
       "      <td>...</td>\n",
       "      <td>219010.0</td>\n",
       "      <td>219005.0</td>\n",
       "      <td>218995.0</td>\n",
       "      <td>218995.0</td>\n",
       "      <td>218980.0</td>\n",
       "      <td>218980.0</td>\n",
       "      <td>218980.0</td>\n",
       "      <td>218980.0</td>\n",
       "      <td>34180.0</td>\n",
       "      <td>1.0</td>\n",
       "    </tr>\n",
       "    <tr>\n",
       "      <th>2</th>\n",
       "      <td>218990.0</td>\n",
       "      <td>218990.0</td>\n",
       "      <td>218995.0</td>\n",
       "      <td>219000.0</td>\n",
       "      <td>219000.0</td>\n",
       "      <td>219035.0</td>\n",
       "      <td>219050.0</td>\n",
       "      <td>219050.0</td>\n",
       "      <td>219065.0</td>\n",
       "      <td>219070.0</td>\n",
       "      <td>...</td>\n",
       "      <td>219005.0</td>\n",
       "      <td>218995.0</td>\n",
       "      <td>218995.0</td>\n",
       "      <td>218980.0</td>\n",
       "      <td>218980.0</td>\n",
       "      <td>218980.0</td>\n",
       "      <td>218980.0</td>\n",
       "      <td>218955.0</td>\n",
       "      <td>35266.0</td>\n",
       "      <td>1.0</td>\n",
       "    </tr>\n",
       "    <tr>\n",
       "      <th>3</th>\n",
       "      <td>218990.0</td>\n",
       "      <td>218995.0</td>\n",
       "      <td>219000.0</td>\n",
       "      <td>219000.0</td>\n",
       "      <td>219035.0</td>\n",
       "      <td>219050.0</td>\n",
       "      <td>219050.0</td>\n",
       "      <td>219065.0</td>\n",
       "      <td>219070.0</td>\n",
       "      <td>219075.0</td>\n",
       "      <td>...</td>\n",
       "      <td>218995.0</td>\n",
       "      <td>218995.0</td>\n",
       "      <td>218980.0</td>\n",
       "      <td>218980.0</td>\n",
       "      <td>218980.0</td>\n",
       "      <td>218980.0</td>\n",
       "      <td>218955.0</td>\n",
       "      <td>218955.0</td>\n",
       "      <td>35478.0</td>\n",
       "      <td>1.0</td>\n",
       "    </tr>\n",
       "    <tr>\n",
       "      <th>4</th>\n",
       "      <td>218995.0</td>\n",
       "      <td>219000.0</td>\n",
       "      <td>219000.0</td>\n",
       "      <td>219035.0</td>\n",
       "      <td>219050.0</td>\n",
       "      <td>219050.0</td>\n",
       "      <td>219065.0</td>\n",
       "      <td>219070.0</td>\n",
       "      <td>219075.0</td>\n",
       "      <td>219090.0</td>\n",
       "      <td>...</td>\n",
       "      <td>218995.0</td>\n",
       "      <td>218980.0</td>\n",
       "      <td>218980.0</td>\n",
       "      <td>218980.0</td>\n",
       "      <td>218980.0</td>\n",
       "      <td>218955.0</td>\n",
       "      <td>218955.0</td>\n",
       "      <td>218955.0</td>\n",
       "      <td>35150.0</td>\n",
       "      <td>1.0</td>\n",
       "    </tr>\n",
       "  </tbody>\n",
       "</table>\n",
       "<p>5 rows × 34 columns</p>\n",
       "</div>"
      ],
      "text/plain": [
       "         0         1         2         3         4         5         6   \\\n",
       "0  218970.0  218970.0  218990.0  218990.0  218995.0  219000.0  219000.0   \n",
       "1  218970.0  218990.0  218990.0  218995.0  219000.0  219000.0  219035.0   \n",
       "2  218990.0  218990.0  218995.0  219000.0  219000.0  219035.0  219050.0   \n",
       "3  218990.0  218995.0  219000.0  219000.0  219035.0  219050.0  219050.0   \n",
       "4  218995.0  219000.0  219000.0  219035.0  219050.0  219050.0  219065.0   \n",
       "\n",
       "         7         8         9   ...        24        25        26        27  \\\n",
       "0  219035.0  219050.0  219050.0  ...  219145.0  219010.0  219005.0  218995.0   \n",
       "1  219050.0  219050.0  219065.0  ...  219010.0  219005.0  218995.0  218995.0   \n",
       "2  219050.0  219065.0  219070.0  ...  219005.0  218995.0  218995.0  218980.0   \n",
       "3  219065.0  219070.0  219075.0  ...  218995.0  218995.0  218980.0  218980.0   \n",
       "4  219070.0  219075.0  219090.0  ...  218995.0  218980.0  218980.0  218980.0   \n",
       "\n",
       "         28        29        30        31       32   33  \n",
       "0  218995.0  218980.0  218980.0  218980.0  34217.0  1.0  \n",
       "1  218980.0  218980.0  218980.0  218980.0  34180.0  1.0  \n",
       "2  218980.0  218980.0  218980.0  218955.0  35266.0  1.0  \n",
       "3  218980.0  218980.0  218955.0  218955.0  35478.0  1.0  \n",
       "4  218980.0  218955.0  218955.0  218955.0  35150.0  1.0  \n",
       "\n",
       "[5 rows x 34 columns]"
      ]
     },
     "execution_count": 17,
     "metadata": {},
     "output_type": "execute_result"
    }
   ],
   "source": [
    "df.head()"
   ]
  },
  {
   "cell_type": "code",
   "execution_count": 43,
   "id": "da3979fc",
   "metadata": {},
   "outputs": [],
   "source": [
    "from sklearn.model_selection import train_test_split\n",
    "X=df.iloc[:,:-1]\n",
    "y=df.iloc[:,-1]\n",
    "X_train, X_test, y_train, y_test = train_test_split(X, y, train_size=0.75, random_state=42)"
   ]
  },
  {
   "cell_type": "code",
   "execution_count": 44,
   "id": "7821d30a",
   "metadata": {},
   "outputs": [
    {
     "name": "stdout",
     "output_type": "stream",
     "text": [
      "accuracy = 0.906. Wow! Such accurate! Very model\n"
     ]
    },
    {
     "data": {
      "text/plain": [
       "0.9007358412567176"
      ]
     },
     "execution_count": 44,
     "metadata": {},
     "output_type": "execute_result"
    }
   ],
   "source": [
    "\n",
    "clf = ExtraTreesClassifier(n_estimators=1200, max_depth=None, min_samples_split=2, random_state=0, criterion='entropy')\n",
    "clf.fit(X_train, y_train)\n",
    "pred=clf.predict(X_test)\n",
    "accuracy = clf.score(X_test, y_test)\n",
    "print(f\"accuracy = {accuracy:.3f}. Wow! Such accurate! Very model\")\n",
    "roc_auc_score(y_test, pred) #clf.predict(X_test))\n"
   ]
  }
 ],
 "metadata": {
  "kernelspec": {
   "display_name": "Python 3",
   "language": "python",
   "name": "python3"
  },
  "language_info": {
   "codemirror_mode": {
    "name": "ipython",
    "version": 3
   },
   "file_extension": ".py",
   "mimetype": "text/x-python",
   "name": "python",
   "nbconvert_exporter": "python",
   "pygments_lexer": "ipython3",
   "version": "3.9.7"
  }
 },
 "nbformat": 4,
 "nbformat_minor": 5
}
